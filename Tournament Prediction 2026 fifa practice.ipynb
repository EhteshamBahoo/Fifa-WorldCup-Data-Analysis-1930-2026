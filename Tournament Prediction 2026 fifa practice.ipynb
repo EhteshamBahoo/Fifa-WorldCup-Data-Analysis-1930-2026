{
 "cells": [
  {
   "cell_type": "code",
   "execution_count": 7,
   "id": "88298d90-76e0-479b-87ac-28e2693acc32",
   "metadata": {},
   "outputs": [],
   "source": [
    "import pandas as pd\n",
    "import numpy as np\n",
    "from sklearn.model_selection import train_test_split\n",
    "from sklearn.preprocessing import LabelEncoder\n",
    "from sklearn.ensemble import RandomForestRegressor\n",
    "from sklearn.metrics import mean_absolute_error"
   ]
  },
  {
   "cell_type": "code",
   "execution_count": 10,
   "id": "18afe213-22ea-4d0b-8791-a24309bbefea",
   "metadata": {},
   "outputs": [],
   "source": [
    "df = pd.read_csv(\"clean_fifa_worldcup_matches.csv\")\n",
    "df = df.dropna()\n"
   ]
  },
  {
   "cell_type": "code",
   "execution_count": 11,
   "id": "4df2984f-93ce-4f4f-8522-b936df95707f",
   "metadata": {},
   "outputs": [],
   "source": [
    "team_encoder = LabelEncoder()\n",
    "df['HomeTeamEncoded'] = team_encoder.fit_transform(df['HomeTeam'])\n",
    "df['AwayTeamEncoded'] = df['AwayTeam'].apply(lambda x: team_encoder.transform([x])[0] if x in team_encoder.classes_ else -1)\n"
   ]
  },
  {
   "cell_type": "code",
   "execution_count": 12,
   "id": "cfbcbaad-685d-4bf9-8dce-176a7cce6cb8",
   "metadata": {},
   "outputs": [],
   "source": [
    "X = df[['HomeTeamEncoded', 'AwayTeamEncoded']]\n",
    "y_home = df['HomeGoals']\n",
    "y_away = df['AwayGoals']"
   ]
  },
  {
   "cell_type": "code",
   "execution_count": 13,
   "id": "6445cdf3-06da-42e5-8947-f088c1c816b6",
   "metadata": {},
   "outputs": [],
   "source": [
    "X_train, X_test, y_train_home, y_test_home = train_test_split(X, y_home, test_size=0.2, random_state=42)\n",
    "X_train, X_test, y_train_away, y_test_away = train_test_split(X, y_away, test_size=0.2, random_state=42)\n"
   ]
  },
  {
   "cell_type": "code",
   "execution_count": 15,
   "id": "b2417897-876e-4df3-9c12-029b9cb2e08f",
   "metadata": {},
   "outputs": [],
   "source": [
    "home_model = RandomForestRegressor(n_estimators=100, random_state=42)\n",
    "away_model = RandomForestRegressor(n_estimators=100, random_state=42)\n",
    "\n",
    "home_model.fit(X_train, y_train_home)\n",
    "away_model.fit(X_train, y_train_away)\n",
    "\n",
    "y_pred_home = home_model.predict(X_test)\n",
    "y_pred_away = away_model.predict(X_test)\n",
    "\n",
    "home_mae = mean_absolute_error(y_test_home, y_pred_home)\n",
    "away_mae = mean_absolute_error(y_test_away, y_pred_away)"
   ]
  },
  {
   "cell_type": "code",
   "execution_count": 33,
   "id": "30b2fd51-3678-417c-9ec4-b8331d782d48",
   "metadata": {},
   "outputs": [
    {
     "name": "stdout",
     "output_type": "stream",
     "text": [
      "Columns before renaming: ['home', 'score', 'away', 'year']\n",
      "Columns after renaming: ['HomeTeam', 'score', 'AwayTeam', 'year']\n"
     ]
    }
   ],
   "source": [
    "fixtures = pd.read_csv(\"clean_fifa_worldcup_fixture.csv\")\n",
    "\n",
    "# Debugging: Print column names before renaming\n",
    "print(\"Columns before renaming:\", list(fixtures.columns))\n",
    "\n",
    "# Rename columns correctly (matching lowercase)\n",
    "fixtures.rename(columns={'home': 'HomeTeam', 'away': 'AwayTeam'}, inplace=True)\n",
    "\n",
    "# Debugging: Print column names after renaming\n",
    "print(\"Columns after renaming:\", list(fixtures.columns))\n",
    "\n",
    "# Check if required columns exist\n",
    "if 'HomeTeam' not in fixtures.columns or 'AwayTeam' not in fixtures.columns:\n",
    "    raise KeyError(\"Columns 'HomeTeam' or 'AwayTeam' not found after renaming!\")\n",
    "\n",
    "# Fix FutureWarning: Fill missing values correctly\n",
    "fixtures['HomeTeam'] = fixtures['HomeTeam'].fillna('Unknown')\n",
    "fixtures['AwayTeam'] = fixtures['AwayTeam'].fillna('Unknown')\n",
    "\n",
    "# Encode team names\n",
    "fixtures['HomeTeamEncoded'] = fixtures['HomeTeam'].apply(lambda x: team_encoder.transform([x])[0] if x in team_encoder.classes_ else -1)\n",
    "fixtures['AwayTeamEncoded'] = fixtures['AwayTeam'].apply(lambda x: team_encoder.transform([x])[0] if x in team_encoder.classes_ else -1)\n",
    "\n",
    "# Predict goals\n",
    "fixtures['PredictedHomeGoals'] = home_model.predict(fixtures[['HomeTeamEncoded', 'AwayTeamEncoded']])\n",
    "fixtures['PredictedAwayGoals'] = away_model.predict(fixtures[['HomeTeamEncoded', 'AwayTeamEncoded']])\n",
    "\n",
    "# Determine winner\n",
    "fixtures['Winner'] = np.where(\n",
    "    fixtures['PredictedHomeGoals'] > fixtures['PredictedAwayGoals'], fixtures['HomeTeam'],\n",
    "    np.where(fixtures['PredictedHomeGoals'] < fixtures['PredictedAwayGoals'], fixtures['AwayTeam'], 'Draw')\n",
    ")\n"
   ]
  },
  {
   "cell_type": "code",
   "execution_count": 34,
   "id": "09eb1db0-9707-4768-b927-46c1f0952adc",
   "metadata": {},
   "outputs": [],
   "source": [
    "fixtures.to_csv(\"fifa_worldcup_2026_predictions.csv\", index=False)\n"
   ]
  },
  {
   "cell_type": "code",
   "execution_count": 35,
   "id": "82ec5e3d-1642-46f0-96ed-65f8e9ff4860",
   "metadata": {},
   "outputs": [],
   "source": [
    "group_stage_results = pd.read_csv(\"fifa_worldcup_2026_predictions.csv\")\n",
    "\n",
    "standings = {}\n",
    "for _, row in group_stage_results.iterrows():\n",
    "    home, away, winner = row['HomeTeam'], row['AwayTeam'], row['Winner']\n",
    "    \n",
    "    standings.setdefault(home, {'Points': 0, 'GD': 0})\n",
    "    standings.setdefault(away, {'Points': 0, 'GD': 0})\n",
    "\n",
    "    if winner == home:\n",
    "        standings[home]['Points'] += 3\n",
    "    elif winner == away:\n",
    "        standings[away]['Points'] += 3\n",
    "    else:\n",
    "        standings[home]['Points'] += 1\n",
    "        standings[away]['Points'] += 1\n",
    "\n",
    "standings_df = pd.DataFrame.from_dict(standings, orient='index').reset_index().rename(columns={'index': 'Team'})\n",
    "standings_df = standings_df.sort_values(by=['Points', 'GD'], ascending=False)\n",
    "\n"
   ]
  },
  {
   "cell_type": "code",
   "execution_count": 36,
   "id": "f0b27792-33c2-4032-8a8d-5d4867e84aa5",
   "metadata": {},
   "outputs": [
    {
     "name": "stdout",
     "output_type": "stream",
     "text": [
      "Predictions for World Cup 2026 saved successfully!\n"
     ]
    }
   ],
   "source": [
    "standings_df.to_csv(\"fifa_worldcup_2026_standings.csv\", index=False)\n",
    "\n",
    "print(\"Predictions for World Cup 2026 saved successfully!\")"
   ]
  },
  {
   "cell_type": "code",
   "execution_count": null,
   "id": "12d95f0d-7524-4b2e-9a8c-56f9ebddad46",
   "metadata": {},
   "outputs": [],
   "source": []
  }
 ],
 "metadata": {
  "kernelspec": {
   "display_name": "Python 3 (ipykernel)",
   "language": "python",
   "name": "python3"
  },
  "language_info": {
   "codemirror_mode": {
    "name": "ipython",
    "version": 3
   },
   "file_extension": ".py",
   "mimetype": "text/x-python",
   "name": "python",
   "nbconvert_exporter": "python",
   "pygments_lexer": "ipython3",
   "version": "3.10.12"
  }
 },
 "nbformat": 4,
 "nbformat_minor": 5
}
